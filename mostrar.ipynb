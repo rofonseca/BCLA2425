{
 "cells": [
  {
   "cell_type": "code",
   "execution_count": 1,
   "metadata": {},
   "outputs": [],
   "source": [
    "import numpy as np\n",
    "import pandas as pd\n",
    "import statistics\n",
    "import sys\n",
    "sys.path.append('./functions/')\n",
    "import funciones"
   ]
  },
  {
   "cell_type": "code",
   "execution_count": 2,
   "metadata": {},
   "outputs": [
    {
     "data": {
      "text/plain": [
       "(0.5526315789473685,\n",
       " 0.6132075471698113,\n",
       " 0.15424164524421594,\n",
       " 0.1271186440677966,\n",
       " 0.20689655172413793,\n",
       " 0.896551724137931,\n",
       " 0.22807017543859648,\n",
       " 0.3018867924528302)"
      ]
     },
     "execution_count": 2,
     "metadata": {},
     "output_type": "execute_result"
    }
   ],
   "source": [
    "local_path = \"data/Partido1_IACCvsFranca.csv\"\n",
    "visit_path = \"data/Partido1_IACCvsFranca_2.csv\"\n",
    "funciones.four_factors(local_path, visit_path)"
   ]
  },
  {
   "cell_type": "code",
   "execution_count": 3,
   "metadata": {},
   "outputs": [
    {
     "name": "stdout",
     "output_type": "stream",
     "text": [
      "           shooting  turnover  rebounding  Free throws\n",
      "offensive  0.552632  0.154242    0.206897     0.228070\n",
      "defensive  0.613208  0.127119    0.896552     0.301887\n"
     ]
    }
   ],
   "source": [
    "funciones.show_four_factor_tabla(funciones.four_factors(local_path, visit_path))"
   ]
  },
  {
   "cell_type": "markdown",
   "metadata": {},
   "source": [
    "# 1. Shooting (Eficiencia de campo - eFG%):\n",
    "Ofensivo (0.552632): Este valor significa que el equipo tiene una eficiencia de campo ofensiva del 55.26%. Es un buen valor, ya que implica que el equipo está siendo relativamente eficiente al convertir sus tiros, lo cual es positivo.\n",
    "Defensivo (0.613208): El equipo está permitiendo a sus oponentes una eficiencia de campo defensiva de 61.32%. Esto es más alto de lo ideal, ya que refleja que el equipo defensivamente no está siendo tan efectivo al evitar que los rivales conviertan sus tiros.\n",
    "# 2. Turnover (Pérdidas de balón - TOV%):\n",
    "Ofensivo (0.154242): Un valor de 15.42% de pérdidas de balón en ofensiva es bastante bajo, lo cual indica que el equipo está controlando bien el balón, evitando errores que den oportunidades al oponente.\n",
    "Defensivo (0.127119): Un 12.71% de pérdidas de balón defensivas es también bajo, lo cual significa que el equipo está haciendo un buen trabajo forzando a los rivales a cometer errores, aprovechando bien las oportunidades para recuperar el balón.\n",
    "# 3. Rebounding (Rebotes - REB%):\n",
    "Ofensivo (0.206897): El equipo está obteniendo 20.69% de los rebotes ofensivos disponibles. Este es un porcentaje bajo, lo que significa que no están siendo muy efectivos en capturar rebotes ofensivos, lo que limita sus oportunidades de anotar tras un fallo.\n",
    "Defensivo (0.896552): Un 89.66% de los rebotes defensivos es un porcentaje excelente, lo que indica que el equipo está controlando el cristal defensivo de manera dominante, impidiendo que su oponente tenga segundas oportunidades para anotar.\n",
    "# 4. Free Throws (Tiros libres - FT%):\n",
    "Ofensivo (0.228070): El equipo está obteniendo 22.81% de sus puntos a través de tiros libres, lo que no es muy alto, pero sugiere que están aprovechando algunas oportunidades de tiros libres en la ofensiva.\n",
    "Defensivo (0.301887): El equipo está permitiendo al oponente un 30.19% de sus puntos a través de tiros libres. Este es un valor relativamente alto, lo que indica que están cometiendo demasiadas faltas y permitiendo que el rival convierta en la línea de tiros libres con frecuencia.\n",
    "# Resumen:\n",
    "## Ofensivo:\n",
    "El equipo es relativamente eficiente en tiros, controla bien las pérdidas de balón, pero no es muy bueno capturando rebotes ofensivos.\n",
    "Aprovechan moderadamente los tiros libres.\n",
    "## Defensivo:\n",
    "El equipo permite una alta eficiencia de campo a sus oponentes, pero es muy fuerte en rebotes defensivos.\n",
    "Fuerzan algunas pérdidas de balón y permiten demasiadas faltas, lo que se traduce en una mayor cantidad de puntos permitidos a través de tiros libres.\n",
    "En general, el equipo tiene fortalezas defensivas (rebotes, control de pérdidas) pero necesita mejorar en su defensa sobre el tiro del oponente y en evitar faltas. En ofensiva, es relativamente eficiente, pero podría mejorar en el aprovechamiento de rebotes ofensivos y tiros libres."
   ]
  },
  {
   "cell_type": "code",
   "execution_count": null,
   "metadata": {},
   "outputs": [],
   "source": []
  }
 ],
 "metadata": {
  "kernelspec": {
   "display_name": "Python 3",
   "language": "python",
   "name": "python3"
  },
  "language_info": {
   "codemirror_mode": {
    "name": "ipython",
    "version": 3
   },
   "file_extension": ".py",
   "mimetype": "text/x-python",
   "name": "python",
   "nbconvert_exporter": "python",
   "pygments_lexer": "ipython3",
   "version": "3.11.9"
  }
 },
 "nbformat": 4,
 "nbformat_minor": 2
}
